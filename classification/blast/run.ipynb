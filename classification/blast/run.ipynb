{
 "cells": [
  {
   "cell_type": "code",
   "execution_count": 9,
   "id": "ad819f08",
   "metadata": {},
   "outputs": [],
   "source": [
    "from datasets import load_dataset\n",
    "import pandas as pd\n",
    "import numpy as np\n",
    "from sklearn.metrics import f1_score, accuracy_score, precision_score, recall_score\n",
    "import matplotlib.pyplot as plt"
   ]
  },
  {
   "cell_type": "code",
   "execution_count": 10,
   "id": "52ed9c88",
   "metadata": {},
   "outputs": [],
   "source": [
    "ds = load_dataset(\"tattabio/ec_classification_dna\")['test']\n",
    "predicted_ds = pd.read_csv('../predicted_ec_results.csv')"
   ]
  },
  {
   "cell_type": "code",
   "execution_count": 11,
   "id": "80e9432d",
   "metadata": {},
   "outputs": [
    {
     "data": {
      "text/html": [
       "<div>\n",
       "<style scoped>\n",
       "    .dataframe tbody tr th:only-of-type {\n",
       "        vertical-align: middle;\n",
       "    }\n",
       "\n",
       "    .dataframe tbody tr th {\n",
       "        vertical-align: top;\n",
       "    }\n",
       "\n",
       "    .dataframe thead th {\n",
       "        text-align: right;\n",
       "    }\n",
       "</style>\n",
       "<table border=\"1\" class=\"dataframe\">\n",
       "  <thead>\n",
       "    <tr style=\"text-align: right;\">\n",
       "      <th></th>\n",
       "      <th>Entry</th>\n",
       "      <th>Sequence</th>\n",
       "      <th>Predicted_EC_Numbers</th>\n",
       "    </tr>\n",
       "  </thead>\n",
       "  <tbody>\n",
       "    <tr>\n",
       "      <th>0</th>\n",
       "      <td>A0A0H2XEA6</td>\n",
       "      <td>TCAAGGACGTGCCTCCGCTGCCAGGCAGGTGTGGAAATGGGCAAAC...</td>\n",
       "      <td>3.1.26.-</td>\n",
       "    </tr>\n",
       "    <tr>\n",
       "      <th>1</th>\n",
       "      <td>Q5AD07</td>\n",
       "      <td>ATGAAGTATTTGTCCATTTTCTTACTTGCTACTTTTGCTTTGGCTG...</td>\n",
       "      <td>1.15.1.1</td>\n",
       "    </tr>\n",
       "    <tr>\n",
       "      <th>2</th>\n",
       "      <td>O74831</td>\n",
       "      <td>ATGCAGTCTTTGCGAGCAGCCTTTCGCAGACGAACCCCAATTTTTT...</td>\n",
       "      <td>NaN</td>\n",
       "    </tr>\n",
       "    <tr>\n",
       "      <th>3</th>\n",
       "      <td>O46310</td>\n",
       "      <td>ATGAAACCGGTTGCGGCTGGCGCCGAGGTGCTGCCGGCGGACAAGG...</td>\n",
       "      <td>1.8.1.4</td>\n",
       "    </tr>\n",
       "    <tr>\n",
       "      <th>4</th>\n",
       "      <td>Q8PU58</td>\n",
       "      <td>ATGTCTGGAATAATTGATAGCTATATACCGGTTGCCATATTTCTTG...</td>\n",
       "      <td>4.2.1.1</td>\n",
       "    </tr>\n",
       "  </tbody>\n",
       "</table>\n",
       "</div>"
      ],
      "text/plain": [
       "        Entry                                           Sequence  \\\n",
       "0  A0A0H2XEA6  TCAAGGACGTGCCTCCGCTGCCAGGCAGGTGTGGAAATGGGCAAAC...   \n",
       "1      Q5AD07  ATGAAGTATTTGTCCATTTTCTTACTTGCTACTTTTGCTTTGGCTG...   \n",
       "2      O74831  ATGCAGTCTTTGCGAGCAGCCTTTCGCAGACGAACCCCAATTTTTT...   \n",
       "3      O46310  ATGAAACCGGTTGCGGCTGGCGCCGAGGTGCTGCCGGCGGACAAGG...   \n",
       "4      Q8PU58  ATGTCTGGAATAATTGATAGCTATATACCGGTTGCCATATTTCTTG...   \n",
       "\n",
       "  Predicted_EC_Numbers  \n",
       "0             3.1.26.-  \n",
       "1             1.15.1.1  \n",
       "2                  NaN  \n",
       "3              1.8.1.4  \n",
       "4              4.2.1.1  "
      ]
     },
     "execution_count": 11,
     "metadata": {},
     "output_type": "execute_result"
    }
   ],
   "source": [
    "predicted_ds.head()"
   ]
  },
  {
   "cell_type": "code",
   "execution_count": 12,
   "id": "e0d42110",
   "metadata": {},
   "outputs": [],
   "source": [
    "y_true = list(ds['Label'])\n",
    "y_pred = list(predicted_ds['Predicted_EC_Numbers'])"
   ]
  },
  {
   "cell_type": "code",
   "execution_count": 13,
   "id": "756094a6",
   "metadata": {},
   "outputs": [
    {
     "name": "stdout",
     "output_type": "stream",
     "text": [
      "Micro F1: 0.234375\n",
      "Macro F1: 0.15855855855855855\n",
      "Weighted F1: 0.22916666666666666\n",
      "F1 per class: [0.         0.         0.         0.         1.         0.\n",
      " 0.         0.         0.         0.         0.         0.\n",
      " 0.         0.         0.         0.         0.         0.\n",
      " 1.         0.         0.         0.         0.         0.\n",
      " 0.         0.         0.         0.         0.         1.\n",
      " 0.         0.         0.         1.         1.         0.\n",
      " 1.         1.         0.         0.         0.         0.\n",
      " 0.         0.         0.         0.         0.         0.\n",
      " 0.         0.         0.         0.         0.         1.\n",
      " 1.         0.         0.         1.         0.         1.\n",
      " 0.         0.         1.         0.         0.         1.\n",
      " 0.         0.         0.         0.         0.         0.\n",
      " 0.         0.         1.         0.         1.         0.\n",
      " 0.         0.         0.         0.         0.         0.\n",
      " 0.         0.         0.         0.         0.         0.\n",
      " 0.         0.         0.         0.         0.66666667 0.\n",
      " 0.         0.         0.         0.         0.         0.\n",
      " 0.         0.         0.         1.         0.         0.\n",
      " 1.         1.         0.         0.         0.         0.\n",
      " 0.         0.         0.         0.         0.         1.\n",
      " 1.         0.         1.         0.         0.         0.\n",
      " 0.         0.         0.         0.         0.         0.\n",
      " 1.         0.         0.         0.         0.         0.\n",
      " 0.         0.66666667 0.         0.         1.         0.\n",
      " 0.         0.         0.         0.         0.         0.\n",
      " 0.         0.         1.         0.         0.         0.\n",
      " 0.         0.         0.         0.         1.         0.\n",
      " 0.         0.         1.         0.         0.         0.\n",
      " 0.         0.         0.         0.         1.         0.\n",
      " 0.         0.         1.         0.         0.         0.\n",
      " 0.         0.         0.         0.         0.        ]\n"
     ]
    }
   ],
   "source": [
    "f1_micro = f1_score(y_true, y_pred, average='micro')\n",
    "f1_macro = f1_score(y_true, y_pred, average='macro')\n",
    "f1_weighted = f1_score(y_true, y_pred, average='weighted')\n",
    "f1_per_class = f1_score(y_true, y_pred, average=None)\n",
    "\n",
    "print(\"Micro F1:\", f1_micro)\n",
    "print(\"Macro F1:\", f1_macro)\n",
    "print(\"Weighted F1:\", f1_weighted)\n",
    "print(\"F1 per class:\", f1_per_class)"
   ]
  },
  {
   "cell_type": "code",
   "execution_count": 14,
   "id": "25ba1a7d",
   "metadata": {},
   "outputs": [
    {
     "name": "stdout",
     "output_type": "stream",
     "text": [
      "Accuracy: 0.234375\n"
     ]
    }
   ],
   "source": [
    "accuracy = accuracy_score(y_true, y_pred)\n",
    "print(f\"Accuracy: {accuracy}\")"
   ]
  },
  {
   "cell_type": "code",
   "execution_count": 15,
   "id": "f133489c",
   "metadata": {},
   "outputs": [
    {
     "name": "stdout",
     "output_type": "stream",
     "text": [
      "Micro Precision: 0.234375\n",
      "Macro Precision: 0.15675675675675677\n",
      "Weighted Precision: 0.2265625\n",
      "Precision per class: [0.  0.  0.  0.  1.  0.  0.  0.  0.  0.  0.  0.  0.  0.  0.  0.  0.  0.\n",
      " 1.  0.  0.  0.  0.  0.  0.  0.  0.  0.  0.  1.  0.  0.  0.  1.  1.  0.\n",
      " 1.  1.  0.  0.  0.  0.  0.  0.  0.  0.  0.  0.  0.  0.  0.  0.  0.  1.\n",
      " 1.  0.  0.  1.  0.  1.  0.  0.  1.  0.  0.  1.  0.  0.  0.  0.  0.  0.\n",
      " 0.  0.  1.  0.  1.  0.  0.  0.  0.  0.  0.  0.  0.  0.  0.  0.  0.  0.\n",
      " 0.  0.  0.  0.  0.5 0.  0.  0.  0.  0.  0.  0.  0.  0.  0.  1.  0.  0.\n",
      " 1.  1.  0.  0.  0.  0.  0.  0.  0.  0.  0.  1.  1.  0.  1.  0.  0.  0.\n",
      " 0.  0.  0.  0.  0.  0.  1.  0.  0.  0.  0.  0.  0.  0.5 0.  0.  1.  0.\n",
      " 0.  0.  0.  0.  0.  0.  0.  0.  1.  0.  0.  0.  0.  0.  0.  0.  1.  0.\n",
      " 0.  0.  1.  0.  0.  0.  0.  0.  0.  0.  1.  0.  0.  0.  1.  0.  0.  0.\n",
      " 0.  0.  0.  0.  0. ]\n"
     ]
    },
    {
     "name": "stderr",
     "output_type": "stream",
     "text": [
      "/opt/anaconda3/envs/dgeb_env/lib/python3.10/site-packages/sklearn/metrics/_classification.py:1565: UndefinedMetricWarning: Precision is ill-defined and being set to 0.0 in labels with no predicted samples. Use `zero_division` parameter to control this behavior.\n",
      "  _warn_prf(average, modifier, f\"{metric.capitalize()} is\", len(result))\n",
      "/opt/anaconda3/envs/dgeb_env/lib/python3.10/site-packages/sklearn/metrics/_classification.py:1565: UndefinedMetricWarning: Precision is ill-defined and being set to 0.0 in labels with no predicted samples. Use `zero_division` parameter to control this behavior.\n",
      "  _warn_prf(average, modifier, f\"{metric.capitalize()} is\", len(result))\n",
      "/opt/anaconda3/envs/dgeb_env/lib/python3.10/site-packages/sklearn/metrics/_classification.py:1565: UndefinedMetricWarning: Precision is ill-defined and being set to 0.0 in labels with no predicted samples. Use `zero_division` parameter to control this behavior.\n",
      "  _warn_prf(average, modifier, f\"{metric.capitalize()} is\", len(result))\n"
     ]
    }
   ],
   "source": [
    "precision_micro = precision_score(y_true, y_pred, average='micro')\n",
    "precision_macro = precision_score(y_true, y_pred, average='macro')\n",
    "precision_weighted = precision_score(y_true, y_pred, average='weighted')\n",
    "precision_per_class = precision_score(y_true, y_pred, average=None)\n",
    "\n",
    "print(\"Micro Precision:\", precision_micro)\n",
    "print(\"Macro Precision:\", precision_macro)\n",
    "print(\"Weighted Precision:\", precision_weighted)\n",
    "print(\"Precision per class:\", precision_per_class)"
   ]
  },
  {
   "cell_type": "code",
   "execution_count": 16,
   "id": "e42d29c7",
   "metadata": {},
   "outputs": [
    {
     "name": "stdout",
     "output_type": "stream",
     "text": [
      "Micro Recall: 0.234375\n",
      "Macro Recall: 0.16216216216216217\n",
      "Weighted Recall: 0.234375\n",
      "Recall per class: [0. 0. 0. 0. 1. 0. 0. 0. 0. 0. 0. 0. 0. 0. 0. 0. 0. 0. 1. 0. 0. 0. 0. 0.\n",
      " 0. 0. 0. 0. 0. 1. 0. 0. 0. 1. 1. 0. 1. 1. 0. 0. 0. 0. 0. 0. 0. 0. 0. 0.\n",
      " 0. 0. 0. 0. 0. 1. 1. 0. 0. 1. 0. 1. 0. 0. 1. 0. 0. 1. 0. 0. 0. 0. 0. 0.\n",
      " 0. 0. 1. 0. 1. 0. 0. 0. 0. 0. 0. 0. 0. 0. 0. 0. 0. 0. 0. 0. 0. 0. 1. 0.\n",
      " 0. 0. 0. 0. 0. 0. 0. 0. 0. 1. 0. 0. 1. 1. 0. 0. 0. 0. 0. 0. 0. 0. 0. 1.\n",
      " 1. 0. 1. 0. 0. 0. 0. 0. 0. 0. 0. 0. 1. 0. 0. 0. 0. 0. 0. 1. 0. 0. 1. 0.\n",
      " 0. 0. 0. 0. 0. 0. 0. 0. 1. 0. 0. 0. 0. 0. 0. 0. 1. 0. 0. 0. 1. 0. 0. 0.\n",
      " 0. 0. 0. 0. 1. 0. 0. 0. 1. 0. 0. 0. 0. 0. 0. 0. 0.]\n"
     ]
    },
    {
     "name": "stderr",
     "output_type": "stream",
     "text": [
      "/opt/anaconda3/envs/dgeb_env/lib/python3.10/site-packages/sklearn/metrics/_classification.py:1565: UndefinedMetricWarning: Recall is ill-defined and being set to 0.0 in labels with no true samples. Use `zero_division` parameter to control this behavior.\n",
      "  _warn_prf(average, modifier, f\"{metric.capitalize()} is\", len(result))\n",
      "/opt/anaconda3/envs/dgeb_env/lib/python3.10/site-packages/sklearn/metrics/_classification.py:1565: UndefinedMetricWarning: Recall is ill-defined and being set to 0.0 in labels with no true samples. Use `zero_division` parameter to control this behavior.\n",
      "  _warn_prf(average, modifier, f\"{metric.capitalize()} is\", len(result))\n",
      "/opt/anaconda3/envs/dgeb_env/lib/python3.10/site-packages/sklearn/metrics/_classification.py:1565: UndefinedMetricWarning: Recall is ill-defined and being set to 0.0 in labels with no true samples. Use `zero_division` parameter to control this behavior.\n",
      "  _warn_prf(average, modifier, f\"{metric.capitalize()} is\", len(result))\n"
     ]
    }
   ],
   "source": [
    "recall_micro = recall_score(y_true, y_pred, average='micro')\n",
    "recall_macro = recall_score(y_true, y_pred, average='macro')\n",
    "recall_weighted = recall_score(y_true, y_pred, average='weighted')\n",
    "recall_per_class = recall_score(y_true, y_pred, average=None)\n",
    "\n",
    "print(\"Micro Recall:\", recall_micro)\n",
    "print(\"Macro Recall:\", recall_macro)\n",
    "print(\"Weighted Recall:\", recall_weighted)\n",
    "print(\"Recall per class:\", recall_per_class)"
   ]
  }
 ],
 "metadata": {
  "kernelspec": {
   "display_name": "dgeb_env",
   "language": "python",
   "name": "python3"
  },
  "language_info": {
   "codemirror_mode": {
    "name": "ipython",
    "version": 3
   },
   "file_extension": ".py",
   "mimetype": "text/x-python",
   "name": "python",
   "nbconvert_exporter": "python",
   "pygments_lexer": "ipython3",
   "version": "3.10.17"
  }
 },
 "nbformat": 4,
 "nbformat_minor": 5
}
