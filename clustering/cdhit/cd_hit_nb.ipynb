{
 "cells": [
  {
   "cell_type": "code",
   "execution_count": 1,
   "id": "944a6e39",
   "metadata": {},
   "outputs": [
    {
     "name": "stdout",
     "output_type": "stream",
     "text": [
      "{'Sequence': 'GGCGGCCGTAGCGCGGTGGTCCCACCTGACCCCATGCCGAACTCAGAAGTGAAACGCCGTAGCGCCGATGGTAGTGTGGGGTCTCCCCATGCGAGAGTAG', 'Label': 'rRNA'}\n"
     ]
    }
   ],
   "source": [
    "from datasets import load_dataset\n",
    "from sklearn.metrics import v_measure_score\n",
    "\n",
    "dataset = load_dataset(\"tattabio/e_coli_rnas\")  # returns a Hugging Face dataset\n",
    "print(dataset[\"train\"][0])"
   ]
  },
  {
   "cell_type": "code",
   "execution_count": 4,
   "id": "32e81426",
   "metadata": {},
   "outputs": [],
   "source": [
    "import subprocess\n",
    "from collections import defaultdict\n",
    "from datasets import load_dataset\n",
    "import pandas as pd\n",
    "from sklearn.metrics import v_measure_score\n",
    "import shutil\n",
    "import sys\n",
    "\n",
    "def save_fasta(dataset, output_path):\n",
    "    with open(output_path, \"w\") as f:\n",
    "        for i, sample in enumerate(dataset):\n",
    "            seq_id = f\"seq{i}\"\n",
    "            sequence = sample[\"Sequence\"].replace(\"U\", \"T\")  # Just in case\n",
    "            f.write(f\">{seq_id}\\n{sequence}\\n\")\n",
    "\n",
    "\n",
    "def run_cd_hit_est(input_fasta, output_fasta, identity=0.9, threads=4, memory=8000):\n",
    "    # Check if cd-hit-est is installed\n",
    "    if shutil.which(\"cd-hit-est\") is None:\n",
    "        print(\"❌ Error: 'cd-hit-est' is not installed or not in your PATH.\")\n",
    "        print(\"👉 Please install CD-HIT manually from https://github.com/weizhongli/cdhit/releases\")\n",
    "        print(\"   and add it to your system PATH.\")\n",
    "        print(\"The command was:\")\n",
    "        print(f\"cd-hit-est -i {input_fasta} -o {output_fasta} -c {identity} -n 8 -T {threads} -M {memory}\")\n",
    "        sys.exit(1)\n",
    "\n",
    "    # Run cd-hit-est\n",
    "    try:\n",
    "        subprocess.run([\n",
    "            \"cd-hit-est\",\n",
    "            \"-i\", input_fasta,\n",
    "            \"-o\", output_fasta,\n",
    "            \"-c\", str(identity),\n",
    "            \"-n\", \"8\",\n",
    "            \"-T\", str(threads),\n",
    "            \"-M\", str(memory)\n",
    "        ], check=True)\n",
    "    except subprocess.CalledProcessError as e:\n",
    "        print(\"❌ CD-HIT execution failed.\")\n",
    "        print(f\"Error: {e}\")\n",
    "        sys.exit(1)\n",
    "\n",
    "def parse_clstr_file(clstr_path):\n",
    "    clusters = defaultdict(list)\n",
    "    current_cluster = None\n",
    "    with open(clstr_path, \"r\") as f:\n",
    "        for line in f:\n",
    "            line = line.strip()\n",
    "            if line.startswith(\">Cluster\"):\n",
    "                current_cluster = line.split()[-1]\n",
    "            else:\n",
    "                seq_id = line.split(\">\")[1].split(\"...\")[0]\n",
    "                clusters[current_cluster].append(seq_id)\n",
    "    return clusters\n",
    "\n",
    "def compute_v_score(clusters, labels):\n",
    "    # Flatten clusters\n",
    "    cluster_assignments = []\n",
    "    for cluster_id, members in clusters.items():\n",
    "        for seq_id in members:\n",
    "            cluster_assignments.append((seq_id, cluster_id))\n",
    "    cluster_df = pd.DataFrame(cluster_assignments, columns=[\"id\", \"cluster_id\"])\n",
    "\n",
    "    # Create label dataframe\n",
    "    label_df = pd.DataFrame([\n",
    "        (f\"seq{i}\", sample[\"Label\"]) for i, sample in enumerate(labels)\n",
    "    ], columns=[\"id\", \"true_label\"])\n",
    "\n",
    "    # Merge\n",
    "    merged = pd.merge(cluster_df, label_df, on=\"id\")\n",
    "    v = v_measure_score(merged[\"true_label\"], merged[\"cluster_id\"])\n",
    "    print(f\"✅ V-score: {v:.4f}\")\n",
    "    return v"
   ]
  },
  {
   "cell_type": "code",
   "execution_count": null,
   "id": "42fedcc8",
   "metadata": {},
   "outputs": [
    {
     "name": "stdout",
     "output_type": "stream",
     "text": [
      "✅ V-score: 0.3045\n"
     ]
    },
    {
     "data": {
      "text/plain": [
       "0.30446556760185245"
      ]
     },
     "execution_count": 6,
     "metadata": {},
     "output_type": "execute_result"
    }
   ],
   "source": [
    "dataset = load_dataset(\"tattabio/e_coli_rnas\")[\"train\"]\n",
    "\n",
    "fasta_file = \"ecoli_rna.fasta\"\n",
    "clustered_file = \"ecoli_rna_clustered.fa\"\n",
    "clstr_file = clustered_file + \".clstr\"\n",
    "\n",
    "# Step 1: Save sequences to FASTA\n",
    "save_fasta(dataset, fasta_file)\n",
    "\n",
    "# Step 2: Run CD-HIT\n",
    "# run_cd_hit_est(fasta_file, clustered_file, identity=0.9) # running cd-hit on wsl on windows, Shamy can try on his macbook\n",
    "\n",
    "# Step 3: Parse clusters\n",
    "clusters = parse_clstr_file(clstr_file)\n",
    "\n",
    "# Step 4: Compute V-score\n",
    "compute_v_score(clusters, dataset)"
   ]
  }
 ],
 "metadata": {
  "kernelspec": {
   "display_name": "compsci682",
   "language": "python",
   "name": "python3"
  },
  "language_info": {
   "codemirror_mode": {
    "name": "ipython",
    "version": 3
   },
   "file_extension": ".py",
   "mimetype": "text/x-python",
   "name": "python",
   "nbconvert_exporter": "python",
   "pygments_lexer": "ipython3",
   "version": "3.10.14"
  }
 },
 "nbformat": 4,
 "nbformat_minor": 5
}
